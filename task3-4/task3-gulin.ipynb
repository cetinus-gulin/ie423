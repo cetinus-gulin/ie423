{
 "cells": [
  {
   "cell_type": "markdown",
   "metadata": {},
   "source": [
    "# Initialize"
   ]
  },
  {
   "cell_type": "code",
   "execution_count": 1,
   "metadata": {},
   "outputs": [],
   "source": [
    "import pandas as pd\n",
    "import numpy as np\n",
    "\n",
    "import sklearn\n",
    "from sklearn.model_selection import train_test_split\n",
    "from sklearn.metrics import mean_absolute_error\n",
    "\n",
    "import warnings\n",
    "warnings.simplefilter(action='ignore', category=FutureWarning)"
   ]
  },
  {
   "cell_type": "markdown",
   "metadata": {},
   "source": [
    "# Load Data"
   ]
  },
  {
   "cell_type": "code",
   "execution_count": 2,
   "metadata": {},
   "outputs": [
    {
     "data": {
      "text/html": [
       "<div>\n",
       "<style scoped>\n",
       "    .dataframe tbody tr th:only-of-type {\n",
       "        vertical-align: middle;\n",
       "    }\n",
       "\n",
       "    .dataframe tbody tr th {\n",
       "        vertical-align: top;\n",
       "    }\n",
       "\n",
       "    .dataframe thead th {\n",
       "        text-align: right;\n",
       "    }\n",
       "</style>\n",
       "<table border=\"1\" class=\"dataframe\">\n",
       "  <thead>\n",
       "    <tr style=\"text-align: right;\">\n",
       "      <th></th>\n",
       "      <th>User_ID</th>\n",
       "      <th>Product_ID</th>\n",
       "      <th>Gender</th>\n",
       "      <th>Age</th>\n",
       "      <th>Occupation</th>\n",
       "      <th>City_Category</th>\n",
       "      <th>Stay_In_Current_City_Years</th>\n",
       "      <th>Marital_Status</th>\n",
       "      <th>Product_Category_1</th>\n",
       "      <th>Product_Category_2</th>\n",
       "      <th>Product_Category_3</th>\n",
       "      <th>Purchase</th>\n",
       "    </tr>\n",
       "  </thead>\n",
       "  <tbody>\n",
       "    <tr>\n",
       "      <th>0</th>\n",
       "      <td>1000001</td>\n",
       "      <td>P00069042</td>\n",
       "      <td>F</td>\n",
       "      <td>0-17</td>\n",
       "      <td>10</td>\n",
       "      <td>A</td>\n",
       "      <td>2</td>\n",
       "      <td>0</td>\n",
       "      <td>3</td>\n",
       "      <td>NaN</td>\n",
       "      <td>NaN</td>\n",
       "      <td>8370</td>\n",
       "    </tr>\n",
       "    <tr>\n",
       "      <th>1</th>\n",
       "      <td>1000001</td>\n",
       "      <td>P00248942</td>\n",
       "      <td>F</td>\n",
       "      <td>0-17</td>\n",
       "      <td>10</td>\n",
       "      <td>A</td>\n",
       "      <td>2</td>\n",
       "      <td>0</td>\n",
       "      <td>1</td>\n",
       "      <td>6.0</td>\n",
       "      <td>14.0</td>\n",
       "      <td>15200</td>\n",
       "    </tr>\n",
       "    <tr>\n",
       "      <th>2</th>\n",
       "      <td>1000001</td>\n",
       "      <td>P00087842</td>\n",
       "      <td>F</td>\n",
       "      <td>0-17</td>\n",
       "      <td>10</td>\n",
       "      <td>A</td>\n",
       "      <td>2</td>\n",
       "      <td>0</td>\n",
       "      <td>12</td>\n",
       "      <td>NaN</td>\n",
       "      <td>NaN</td>\n",
       "      <td>1422</td>\n",
       "    </tr>\n",
       "    <tr>\n",
       "      <th>3</th>\n",
       "      <td>1000001</td>\n",
       "      <td>P00085442</td>\n",
       "      <td>F</td>\n",
       "      <td>0-17</td>\n",
       "      <td>10</td>\n",
       "      <td>A</td>\n",
       "      <td>2</td>\n",
       "      <td>0</td>\n",
       "      <td>12</td>\n",
       "      <td>14.0</td>\n",
       "      <td>NaN</td>\n",
       "      <td>1057</td>\n",
       "    </tr>\n",
       "    <tr>\n",
       "      <th>4</th>\n",
       "      <td>1000002</td>\n",
       "      <td>P00285442</td>\n",
       "      <td>M</td>\n",
       "      <td>55+</td>\n",
       "      <td>16</td>\n",
       "      <td>C</td>\n",
       "      <td>4+</td>\n",
       "      <td>0</td>\n",
       "      <td>8</td>\n",
       "      <td>NaN</td>\n",
       "      <td>NaN</td>\n",
       "      <td>7969</td>\n",
       "    </tr>\n",
       "  </tbody>\n",
       "</table>\n",
       "</div>"
      ],
      "text/plain": [
       "   User_ID Product_ID Gender   Age  Occupation City_Category  \\\n",
       "0  1000001  P00069042      F  0-17          10             A   \n",
       "1  1000001  P00248942      F  0-17          10             A   \n",
       "2  1000001  P00087842      F  0-17          10             A   \n",
       "3  1000001  P00085442      F  0-17          10             A   \n",
       "4  1000002  P00285442      M   55+          16             C   \n",
       "\n",
       "  Stay_In_Current_City_Years  Marital_Status  Product_Category_1  \\\n",
       "0                          2               0                   3   \n",
       "1                          2               0                   1   \n",
       "2                          2               0                  12   \n",
       "3                          2               0                  12   \n",
       "4                         4+               0                   8   \n",
       "\n",
       "   Product_Category_2  Product_Category_3  Purchase  \n",
       "0                 NaN                 NaN      8370  \n",
       "1                 6.0                14.0     15200  \n",
       "2                 NaN                 NaN      1422  \n",
       "3                14.0                 NaN      1057  \n",
       "4                 NaN                 NaN      7969  "
      ]
     },
     "execution_count": 2,
     "metadata": {},
     "output_type": "execute_result"
    }
   ],
   "source": [
    "#from google.colab import drive\n",
    "#drive.mount('/content/drive')\n",
    "\n",
    "#dfPurchase = pd.read_csv('/content/drive/MyDrive/Colab Notebooks/train.csv')\n",
    "dfPurchase = pd.read_csv('train.csv')\n",
    "dfPurchase.head()"
   ]
  },
  {
   "cell_type": "code",
   "execution_count": 3,
   "metadata": {},
   "outputs": [],
   "source": [
    "# Select target as a series and features as dataframe\n",
    "y = dfPurchase.loc[:,['Purchase']].values.ravel()\n",
    "X = dfPurchase.drop(['Purchase'],axis=1)\n",
    "\n",
    "# Split into training and test sets\n",
    "X_train, X_test, y_train, y_test = train_test_split(X,y,train_size=0.8, test_size=0.2,random_state=1)"
   ]
  },
  {
   "cell_type": "markdown",
   "metadata": {},
   "source": [
    "# Build Random Forest Model"
   ]
  },
  {
   "cell_type": "code",
   "execution_count": 4,
   "metadata": {},
   "outputs": [],
   "source": [
    "from sklearn.ensemble import RandomForestRegressor\n",
    "\n",
    "# Function for building and scoring Random Forest models\n",
    "def get_random_forest_mae(X_trn, X_tst, y_trn, y_tst):\n",
    "    mdlRfsMlb = RandomForestRegressor(random_state=1)\n",
    "    mdlRfsMlb.fit(X_trn, y_trn)\n",
    "    y_tst_prd = mdlRfsMlb.predict(X_tst)\n",
    "    mae = mean_absolute_error(y_tst, y_tst_prd)\n",
    "    return (mae)"
   ]
  },
  {
   "cell_type": "markdown",
   "metadata": {},
   "source": [
    "Numerical Features"
   ]
  },
  {
   "cell_type": "markdown",
   "metadata": {},
   "source": [
    "Approach 1 - Drop columns with missing value"
   ]
  },
  {
   "cell_type": "code",
   "execution_count": 5,
   "metadata": {},
   "outputs": [],
   "source": [
    "# Select numeric features\n",
    "cols_num = [col for col in X.columns if X[col].dtype in ['int64', 'float64']]\n",
    "Xnum = X[cols_num]\n",
    "\n",
    "# Split numeric features into training and test sets\n",
    "Xnum_train, Xnum_test, y_train, y_test = train_test_split(Xnum,y,train_size=0.8, test_size=0.2,random_state=1)"
   ]
  },
  {
   "cell_type": "code",
   "execution_count": 6,
   "metadata": {},
   "outputs": [
    {
     "name": "stdout",
     "output_type": "stream",
     "text": [
      "MAE from Approach 1 (Drop features with missing values):\n",
      "2091.239815876307\n"
     ]
    }
   ],
   "source": [
    "# Drop empty columns\n",
    "# Identify columns with missing values and then drop such columns\n",
    "cols_num_null = [col for col in Xnum_train.columns\n",
    "    if Xnum_train[col].isnull().any()]\n",
    "Xnum_train_drpnull = Xnum_train.drop(cols_num_null, axis=1)\n",
    "Xnum_test_drpnull = Xnum_test.drop(cols_num_null, axis=1)\n",
    "\n",
    "print('MAE from Approach 1 (Drop features with missing values):')\n",
    "print(get_random_forest_mae(Xnum_train_drpnull, Xnum_test_drpnull, y_train, y_test))"
   ]
  },
  {
   "cell_type": "markdown",
   "metadata": {},
   "source": [
    "Approach 2 - Fill missing values with imputation"
   ]
  },
  {
   "cell_type": "code",
   "execution_count": 7,
   "metadata": {},
   "outputs": [
    {
     "name": "stdout",
     "output_type": "stream",
     "text": [
      "MAE from Approach 2 (Replace missing values with forward fill):\n",
      "2272.010880299493\n"
     ]
    }
   ],
   "source": [
    "# Replace with specific value (0, bfill, ffill)\n",
    "Xnum_train_repnull = Xnum_train.fillna(method = 'ffill')\n",
    "Xnum_test_repnull = Xnum_test.fillna(method = 'ffill')\n",
    "\n",
    "print('MAE from Approach 2 (Replace missing values with forward fill):')\n",
    "print(get_random_forest_mae(Xnum_train_repnull, Xnum_test_repnull, y_train, y_test))"
   ]
  },
  {
   "cell_type": "code",
   "execution_count": 8,
   "metadata": {},
   "outputs": [
    {
     "name": "stdout",
     "output_type": "stream",
     "text": [
      "MAE from Approach 2 (Replace missing values with mean):\n",
      "2193.4539755555916\n"
     ]
    }
   ],
   "source": [
    "# Replace with mean value\n",
    "Xnum_train_repnull = Xnum_train.fillna(Xnum_train.mean())\n",
    "Xnum_test_repnull = Xnum_test.fillna(Xnum_train.mean())\n",
    "\n",
    "print('MAE from Approach 2 (Replace missing values with mean):')\n",
    "print(get_random_forest_mae(Xnum_train_repnull, Xnum_test_repnull, y_train, y_test))"
   ]
  },
  {
   "cell_type": "markdown",
   "metadata": {},
   "source": [
    "Dropping features with missing values approach gives us the smallest MAE."
   ]
  },
  {
   "cell_type": "code",
   "execution_count": 9,
   "metadata": {},
   "outputs": [],
   "source": [
    "# Drop empty columns\n",
    "# Identify columns with missing values and then drop such columns\n",
    "cols_num_null = [col for col in Xnum_train.columns\n",
    "    if Xnum_train[col].isnull().any()]\n",
    "Xnum_train_drpnull = Xnum_train.drop(cols_num_null, axis=1)\n",
    "Xnum_test_drpnull = Xnum_test.drop(cols_num_null, axis=1)\n",
    "\n",
    "# Going forward, let us remove all missing numeric values\n",
    "X_train[cols_num]=Xnum_train_repnull[cols_num]\n",
    "X_test[cols_num]=Xnum_test_repnull[cols_num]"
   ]
  },
  {
   "cell_type": "markdown",
   "metadata": {},
   "source": [
    "Non-Numerical Features"
   ]
  },
  {
   "cell_type": "code",
   "execution_count": 10,
   "metadata": {},
   "outputs": [
    {
     "data": {
      "text/plain": [
       "['Gender', 'Age', 'City_Category', 'Stay_In_Current_City_Years']"
      ]
     },
     "execution_count": 10,
     "metadata": {},
     "output_type": "execute_result"
    }
   ],
   "source": [
    "# Select categorical features\n",
    "cols_cat = [col for col in X.columns if X[col].dtype == 'object' and X[col].nunique()<10]\n",
    "cols_cat"
   ]
  },
  {
   "cell_type": "code",
   "execution_count": 11,
   "metadata": {},
   "outputs": [],
   "source": [
    "# Label encoding on only categorical features\n",
    "\n",
    "from sklearn.preprocessing import LabelEncoder\n",
    "\n",
    "Xle_train = X_train.copy()\n",
    "Xle_test = X_test.copy()    \n",
    "# Apply label encoder to each column with categorical data\n",
    "label_encoder = LabelEncoder()\n",
    "for col in cols_cat:\n",
    "    Xle_train[col] = label_encoder.fit_transform(X_train[col])\n",
    "    Xle_test[col] = label_encoder.transform(X_test[col])"
   ]
  },
  {
   "cell_type": "code",
   "execution_count": 12,
   "metadata": {},
   "outputs": [
    {
     "name": "stdout",
     "output_type": "stream",
     "text": [
      "MAE from Label Encoding all Categorical columns:\n",
      "2154.209866440387\n"
     ]
    }
   ],
   "source": [
    "# Encode and Build/Score using all Categorical columns\n",
    "\n",
    "mae = get_random_forest_mae(Xle_train[cols_num + cols_cat], Xle_test[cols_num + cols_cat], y_train, y_test)\n",
    "print(\"MAE from Label Encoding all Categorical columns:\") \n",
    "print(mae)"
   ]
  },
  {
   "cell_type": "markdown",
   "metadata": {},
   "source": [
    "# Build Gradient Boosted Tree Method"
   ]
  },
  {
   "cell_type": "code",
   "execution_count": 13,
   "metadata": {},
   "outputs": [
    {
     "name": "stdout",
     "output_type": "stream",
     "text": [
      "MAE from default XGBoost model:\n",
      "2090.9818629360047\n"
     ]
    }
   ],
   "source": [
    "from xgboost import XGBRegressor\n",
    "\n",
    "#Build and score default Gradient Boosting Model\n",
    "mdlXgbMlb = XGBRegressor()\n",
    "mdlXgbMlb.fit(Xle_train[cols_num + cols_cat], y_train)\n",
    "y_test_pred = mdlXgbMlb.predict(Xle_test[cols_num + cols_cat])\n",
    "mae = mean_absolute_error(y_test_pred, y_test)\n",
    "\n",
    "print(\"MAE from default XGBoost model:\")\n",
    "print(mae)"
   ]
  },
  {
   "cell_type": "code",
   "execution_count": 14,
   "metadata": {},
   "outputs": [
    {
     "name": "stdout",
     "output_type": "stream",
     "text": [
      "MAE from tuned XGBoost model:\n",
      "2100.3951026451473\n"
     ]
    }
   ],
   "source": [
    "#Build and score a tuned Gradient Boosting Model\n",
    "mdlXgbMlb = XGBRegressor(n_estimators=5000, learning_rate=0.01, max_depth=5)\n",
    "mdlXgbMlb.fit(Xle_train[cols_num + cols_cat], y_train)\n",
    "y_test_pred = mdlXgbMlb.predict(Xle_test[cols_num + cols_cat])\n",
    "mae = mean_absolute_error(y_test_pred, y_test)\n",
    "\n",
    "print(\"MAE from tuned XGBoost model:\")\n",
    "print(mae)"
   ]
  }
 ],
 "metadata": {
  "kernelspec": {
   "display_name": "Python 3",
   "language": "python",
   "name": "python3"
  },
  "language_info": {
   "codemirror_mode": {
    "name": "ipython",
    "version": 3
   },
   "file_extension": ".py",
   "mimetype": "text/x-python",
   "name": "python",
   "nbconvert_exporter": "python",
   "pygments_lexer": "ipython3",
   "version": "3.12.2"
  }
 },
 "nbformat": 4,
 "nbformat_minor": 2
}
