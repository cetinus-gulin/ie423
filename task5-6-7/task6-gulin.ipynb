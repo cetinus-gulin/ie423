{
 "cells": [
  {
   "cell_type": "markdown",
   "metadata": {},
   "source": [
    "Task 6: Please use Black Friday Sales data you have used for Task 3 for customer segmentation. Provide insights about segments. You can use notebook n6 as a starting point.\n",
    "\n",
    "https://www.kaggle.com/datasets/prepinstaprime/black-friday-sales-data"
   ]
  }
 ],
 "metadata": {
  "kernelspec": {
   "display_name": "Python 3",
   "language": "python",
   "name": "python3"
  },
  "language_info": {
   "name": "python",
   "version": "3.12.2"
  }
 },
 "nbformat": 4,
 "nbformat_minor": 2
}
