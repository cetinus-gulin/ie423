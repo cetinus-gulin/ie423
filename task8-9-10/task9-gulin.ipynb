{
  "cells": [
    {
      "cell_type": "markdown",
      "metadata": {
        "id": "U6pXIm2gsDPC"
      },
      "source": [
        "## <font color='#475468'> Pretrained Models:</font>\n",
        "### <font color='#475468'> Can you speed up your efforts using pretrained models?</font>"
      ]
    },
    {
      "cell_type": "markdown",
      "metadata": {
        "id": "2859Wq8-scsP"
      },
      "source": [
        "# Transfomers\n",
        "\n",
        "Pretrained chains of models that perform specific tasks"
      ]
    },
    {
      "cell_type": "markdown",
      "metadata": {
        "id": "aQ455KlnVIpn"
      },
      "source": [
        "## Initialize"
      ]
    },
    {
      "cell_type": "code",
      "execution_count": 5,
      "metadata": {
        "colab": {
          "base_uri": "https://localhost:8080/"
        },
        "id": "xJk3PId9UnAn",
        "outputId": "c6877e07-1224-4ed4-f05f-a0d334dae767"
      },
      "outputs": [
        {
          "name": "stdout",
          "output_type": "stream",
          "text": [
            "Requirement already satisfied: transformers in /Library/Frameworks/Python.framework/Versions/3.12/lib/python3.12/site-packages (4.43.3)\n",
            "Requirement already satisfied: filelock in /Library/Frameworks/Python.framework/Versions/3.12/lib/python3.12/site-packages (from transformers) (3.14.0)\n",
            "Requirement already satisfied: huggingface-hub<1.0,>=0.23.2 in /Library/Frameworks/Python.framework/Versions/3.12/lib/python3.12/site-packages (from transformers) (0.24.3)\n",
            "Requirement already satisfied: numpy>=1.17 in /Library/Frameworks/Python.framework/Versions/3.12/lib/python3.12/site-packages (from transformers) (1.26.4)\n",
            "Requirement already satisfied: packaging>=20.0 in /Library/Frameworks/Python.framework/Versions/3.12/lib/python3.12/site-packages (from transformers) (24.0)\n",
            "Requirement already satisfied: pyyaml>=5.1 in /Library/Frameworks/Python.framework/Versions/3.12/lib/python3.12/site-packages (from transformers) (6.0.1)\n",
            "Requirement already satisfied: regex!=2019.12.17 in /Library/Frameworks/Python.framework/Versions/3.12/lib/python3.12/site-packages (from transformers) (2024.7.24)\n",
            "Requirement already satisfied: requests in /Library/Frameworks/Python.framework/Versions/3.12/lib/python3.12/site-packages (from transformers) (2.31.0)\n",
            "Requirement already satisfied: safetensors>=0.4.1 in /Library/Frameworks/Python.framework/Versions/3.12/lib/python3.12/site-packages (from transformers) (0.4.3)\n",
            "Requirement already satisfied: tokenizers<0.20,>=0.19 in /Library/Frameworks/Python.framework/Versions/3.12/lib/python3.12/site-packages (from transformers) (0.19.1)\n",
            "Requirement already satisfied: tqdm>=4.27 in /Library/Frameworks/Python.framework/Versions/3.12/lib/python3.12/site-packages (from transformers) (4.66.4)\n",
            "Requirement already satisfied: fsspec>=2023.5.0 in /Library/Frameworks/Python.framework/Versions/3.12/lib/python3.12/site-packages (from huggingface-hub<1.0,>=0.23.2->transformers) (2024.3.1)\n",
            "Requirement already satisfied: typing-extensions>=3.7.4.3 in /Library/Frameworks/Python.framework/Versions/3.12/lib/python3.12/site-packages (from huggingface-hub<1.0,>=0.23.2->transformers) (4.11.0)\n",
            "Requirement already satisfied: charset-normalizer<4,>=2 in /Library/Frameworks/Python.framework/Versions/3.12/lib/python3.12/site-packages (from requests->transformers) (3.3.2)\n",
            "Requirement already satisfied: idna<4,>=2.5 in /Library/Frameworks/Python.framework/Versions/3.12/lib/python3.12/site-packages (from requests->transformers) (3.7)\n",
            "Requirement already satisfied: urllib3<3,>=1.21.1 in /Library/Frameworks/Python.framework/Versions/3.12/lib/python3.12/site-packages (from requests->transformers) (2.2.1)\n",
            "Requirement already satisfied: certifi>=2017.4.17 in /Library/Frameworks/Python.framework/Versions/3.12/lib/python3.12/site-packages (from requests->transformers) (2024.2.2)\n"
          ]
        }
      ],
      "source": [
        "!pip install transformers"
      ]
    },
    {
      "cell_type": "code",
      "execution_count": 6,
      "metadata": {
        "id": "Wb8kfCENVGuZ"
      },
      "outputs": [
        {
          "name": "stderr",
          "output_type": "stream",
          "text": [
            "/Library/Frameworks/Python.framework/Versions/3.12/lib/python3.12/site-packages/tqdm/auto.py:21: TqdmWarning: IProgress not found. Please update jupyter and ipywidgets. See https://ipywidgets.readthedocs.io/en/stable/user_install.html\n",
            "  from .autonotebook import tqdm as notebook_tqdm\n"
          ]
        }
      ],
      "source": [
        "# Use pipelines to access pre-trained models\n",
        "from transformers import pipeline"
      ]
    },
    {
      "cell_type": "markdown",
      "metadata": {
        "id": "GGGTJHEnaVdW"
      },
      "source": [
        "## Sentiment Analysis"
      ]
    },
    {
      "cell_type": "code",
      "execution_count": 8,
      "metadata": {
        "colab": {
          "base_uri": "https://localhost:8080/"
        },
        "id": "qmU2RbtVaZzv",
        "outputId": "5eb8e78a-6913-4842-cd87-c14332fd8091"
      },
      "outputs": [
        {
          "name": "stderr",
          "output_type": "stream",
          "text": [
            "No model was supplied, defaulted to distilbert/distilbert-base-uncased-finetuned-sst-2-english and revision af0f99b (https://huggingface.co/distilbert/distilbert-base-uncased-finetuned-sst-2-english).\n",
            "Using a pipeline without specifying a model name and revision in production is not recommended.\n",
            "Hardware accelerator e.g. GPU is available in the environment, but no `device` argument is passed to the `Pipeline` object. Model will be on CPU.\n"
          ]
        },
        {
          "data": {
            "text/plain": [
              "[{'label': 'POSITIVE', 'score': 0.9988068342208862},\n",
              " {'label': 'NEGATIVE', 'score': 0.8856446146965027}]"
            ]
          },
          "execution_count": 8,
          "metadata": {},
          "output_type": "execute_result"
        }
      ],
      "source": [
        "# Model\n",
        "mdlSnt = pipeline('sentiment-analysis')\n",
        "\n",
        "# Parameters\n",
        "#prmStatement = 'We are happy to go on vacation this spring break.'\n",
        "prmStatement = [\"Dreams are of your taste, morning smells like you.\", \"Compass doesn't listen to me anymore, my lost soul is only searching in a path, where you are.\"]\n",
        "# Predict\n",
        "mdlSnt(prmStatement)"
      ]
    },
    {
      "cell_type": "markdown",
      "metadata": {
        "id": "U0KSV_R_fnwd"
      },
      "source": [
        "Can perform sentiment analysis in other languages as well using `model = 'nlptown/bert-base-multilingual-uncased-sentiment'`"
      ]
    },
    {
      "cell_type": "code",
      "execution_count": 9,
      "metadata": {
        "colab": {
          "base_uri": "https://localhost:8080/"
        },
        "id": "TrWE8D-Zhh0S",
        "outputId": "3302eb29-a14e-41ee-e1cf-6b12fe7aac99"
      },
      "outputs": [
        {
          "name": "stderr",
          "output_type": "stream",
          "text": [
            "Hardware accelerator e.g. GPU is available in the environment, but no `device` argument is passed to the `Pipeline` object. Model will be on CPU.\n"
          ]
        },
        {
          "data": {
            "text/plain": [
              "[{'label': '1 star', 'score': 0.30517956614494324}]"
            ]
          },
          "execution_count": 9,
          "metadata": {},
          "output_type": "execute_result"
        }
      ],
      "source": [
        "# Model\n",
        "mdlSnt = pipeline('sentiment-analysis', model = 'nlptown/bert-base-multilingual-uncased-sentiment')\n",
        "\n",
        "# Parameters\n",
        "prmStatement = 'Snegovi u avgustu sad po meni padaju, Dok tebe sunce greje, mi amore'\n",
        "#serbian for: Snow falls on me in August now, While the sun warms you up, my love\n",
        "\n",
        "# Predict\n",
        "mdlSnt(prmStatement)"
      ]
    },
    {
      "cell_type": "markdown",
      "metadata": {
        "id": "xOUDkRRLh_zt"
      },
      "source": [
        "The result is in stars as opposed to score... this is as per the model definition.  See model details in HF for more details."
      ]
    },
    {
      "cell_type": "markdown",
      "metadata": {
        "id": "FVvRaJL9aQdj"
      },
      "source": [
        "## Question Answering"
      ]
    },
    {
      "cell_type": "markdown",
      "metadata": {
        "id": "eCa9aV74zBLk"
      },
      "source": [
        "### Example 1"
      ]
    },
    {
      "cell_type": "code",
      "execution_count": 11,
      "metadata": {
        "colab": {
          "base_uri": "https://localhost:8080/"
        },
        "id": "mnFzwGNkbgMV",
        "outputId": "7a6ca4f9-4cc4-4ff6-9df5-42ee82cd2110"
      },
      "outputs": [
        {
          "name": "stderr",
          "output_type": "stream",
          "text": [
            "No model was supplied, defaulted to distilbert/distilbert-base-cased-distilled-squad and revision 626af31 (https://huggingface.co/distilbert/distilbert-base-cased-distilled-squad).\n",
            "Using a pipeline without specifying a model name and revision in production is not recommended.\n",
            "Hardware accelerator e.g. GPU is available in the environment, but no `device` argument is passed to the `Pipeline` object. Model will be on CPU.\n"
          ]
        },
        {
          "data": {
            "text/plain": [
              "{'score': 0.9695745706558228,\n",
              " 'start': 290,\n",
              " 'end': 305,\n",
              " 'answer': 'Giuseppe Farina'}"
            ]
          },
          "execution_count": 11,
          "metadata": {},
          "output_type": "execute_result"
        }
      ],
      "source": [
        "# Model\n",
        "mdlQa = pipeline(\"question-answering\")\n",
        "\n",
        "# Parameters\n",
        "context = \"Formula 1 (F1) is the premier international motorsport racing series, known for its fast cars and skilled drivers. It began in 1950, with the inaugural World Championship of Drivers, featuring races known as Grands Prix. The first race was held at Silverstone in the UK, and Italian driver Giuseppe Farina won the first championship driving for Alfa Romeo.\"\n",
        "question = \"Who won the first Formula 1 championship?\"\n",
        "\n",
        "# Predict\n",
        "mdlQa(question = question, context = context)"
      ]
    },
    {
      "cell_type": "markdown",
      "metadata": {
        "id": "v5q106TLzF5x"
      },
      "source": [
        "### Example 2"
      ]
    },
    {
      "cell_type": "code",
      "execution_count": 14,
      "metadata": {
        "colab": {
          "base_uri": "https://localhost:8080/"
        },
        "id": "SIM5Hx6WtEqH",
        "outputId": "d86a3dba-8667-4650-b8bc-8d6a183df863"
      },
      "outputs": [
        {
          "name": "stderr",
          "output_type": "stream",
          "text": [
            "No model was supplied, defaulted to distilbert/distilbert-base-cased-distilled-squad and revision 626af31 (https://huggingface.co/distilbert/distilbert-base-cased-distilled-squad).\n",
            "Using a pipeline without specifying a model name and revision in production is not recommended.\n",
            "Hardware accelerator e.g. GPU is available in the environment, but no `device` argument is passed to the `Pipeline` object. Model will be on CPU.\n"
          ]
        },
        {
          "data": {
            "text/plain": [
              "{'score': 0.6091627478599548,\n",
              " 'start': 0,\n",
              " 'end': 25,\n",
              " 'answer': 'The Drag Reduction System'}"
            ]
          },
          "execution_count": 14,
          "metadata": {},
          "output_type": "execute_result"
        }
      ],
      "source": [
        "# Model\n",
        "mdlQa = pipeline(\"question-answering\")\n",
        "\n",
        "# Parameters\n",
        "context = \"The Drag Reduction System (DRS) is a technology in Formula 1 designed to enhance overtaking opportunities during races. Introduced in 2011, DRS aims to reduce aerodynamic drag and increase top speed, making it easier for drivers to pass their competitors. DRS works by allowing the driver to adjust the rear wing of the car. When activated, the flap in the rear wing opens, reducing the car's downforce and drag. This change decreases air resistance, allowing the car to achieve higher speeds on straights. However, this also reduces the car's stability in corners, so its use is carefully regulated.\"\n",
        "question = \"What is DRS?\"\n",
        "\n",
        "# Predict\n",
        "mdlQa(question = question, context = context)"
      ]
    }
  ],
  "metadata": {
    "accelerator": "GPU",
    "colab": {
      "authorship_tag": "ABX9TyPTMcdT7v1gT9rVyiNjUDRH",
      "gpuClass": "premium",
      "include_colab_link": true,
      "machine_shape": "hm",
      "mount_file_id": "1XgED-sVAAjTd-wDGIgaY0rI2UYER38Xd",
      "provenance": []
    },
    "gpuClass": "premium",
    "kernelspec": {
      "display_name": "Python 3",
      "name": "python3"
    },
    "language_info": {
      "codemirror_mode": {
        "name": "ipython",
        "version": 3
      },
      "file_extension": ".py",
      "mimetype": "text/x-python",
      "name": "python",
      "nbconvert_exporter": "python",
      "pygments_lexer": "ipython3",
      "version": "3.12.2"
    }
  },
  "nbformat": 4,
  "nbformat_minor": 0
}
